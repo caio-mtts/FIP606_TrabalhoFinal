{
  "cells": [
    {
      "cell_type": "raw",
      "metadata": {},
      "source": [
        "---\n",
        "title: \"FIP606 - Trabalho Final\"\n",
        "---"
      ],
      "id": "34d2b3b4"
    },
    {
      "cell_type": "markdown",
      "metadata": {},
      "source": [
        "Este website foi criado com base em Quarto, com o objetivo de armazenar e compartilhar as informações e scripts gerados para o trabalho final da disciplina FIP 606 - Análise e Visualização de Dados em Fitopatologia, ministrada pelo [Prof. Emerson Del Ponte](https://www.dfp.ufv.br/departamento/docentes/delponte/).\\\n",
        "\\\n",
        "\\\n",
        "Os dados utilizados nas análises são de propriedade de Leonardo Packer de Quadros.\\\n",
        "\\\n",
        "\\\n",
        "As análises foram conduzidas por [Caio Mattos Pereira](https://github.com/caio-mtts) e Leonardo Packer de Quadros.\n",
        "\n",
        "Sobre os autores:\n",
        "\n",
        "\n",
        "```{css}\n",
        "#| echo = FALSE\n",
        "\n",
        ".justify {\n",
        "  text-align: justify !important\n",
        "}\n",
        "```\n",
        "\n",
        "\n",
        "::: grid\n",
        "::: g-col-6\n",
        "## ::: {.justify} Caio M. Pereira :::\n",
        "\n",
        "![](Caio.jpg){fig-align=\"center\" width=\"100\"}\n",
        "\n",
        "Natural de São Paulo (SP), Engenheiro Agrônomo (2019) pela Universidade Federal de Viçosa (UFV), onde também obteve o título de Mestre em Fitopatologia (2021). Atualmente, é aluno de doutorado do Programa de Pós-graduação em Fitopatologia da mesma universidade.\n",
        ":::\n",
        "\n",
        "::: g-col-6\n",
        "## ::: {.justify} Leonardo P. de Quadros :::\n",
        "\n",
        "![](Leonardo.jpg){fig-align=\"center\" width=\"100\"}\n",
        "\n",
        "Natural de Curitiba (PR), Engenheiro Agrônomo (2019) pela Universidade Federal do Paraná (UFPR). Mestre em Fitopatologia (2021) pela Universidade Federal de Viçosa (UFV), onde, atualmente, é aluno de doutorado do Programa de Pós-graduação em Fitopatologia.\n",
        ":::\n",
        ":::"
      ],
      "id": "aea6e324"
    }
  ],
  "metadata": {
    "kernelspec": {
      "display_name": "Python 3",
      "language": "python",
      "name": "python3"
    }
  },
  "nbformat": 4,
  "nbformat_minor": 5
}